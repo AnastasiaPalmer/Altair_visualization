{
 "cells": [
  {
   "cell_type": "code",
   "execution_count": 3,
   "outputs": [],
   "source": [
    "import pandas as pd\n",
    "import numpy as np\n",
    "import altair as alt\n",
    "import altair as alt\n",
    "from vega_datasets import data"
   ],
   "metadata": {
    "collapsed": false
   }
  },
  {
   "cell_type": "markdown",
   "source": [
    "## Частина №3"
   ],
   "metadata": {
    "collapsed": false
   }
  },
  {
   "cell_type": "markdown",
   "source": [
    "1. Побудуйте звичайну лінійну діаграму на основі  pd.DataFrame з двома стовпцями за допомогою бібліотеки Altair для функції y=x cos⁡x для значень x в діапазоні від 0 до 99. Додайте відповідні мітки для вісей x та y на діаграмі. Підпишіть вісі і назву графіку."
   ],
   "metadata": {
    "collapsed": false
   }
  },
  {
   "cell_type": "code",
   "execution_count": null,
   "metadata": {
    "collapsed": true,
    "pycharm": {
     "is_executing": true
    }
   },
   "outputs": [
    {
     "name": "stdout",
     "output_type": "stream",
     "text": [
      "Displaying chart at http://localhost:62331/\n"
     ]
    }
   ],
   "source": [
    "\n",
    "# Створення DataFrame зі значеннями x та y\n",
    "x_values = np.arange(0, 100, 1)\n",
    "y_values = x_values * np.cos(x_values)\n",
    "df = pd.DataFrame({'x': x_values, 'y': y_values})\n",
    "\n",
    "# Побудова лінійної діаграми за допомогою Altair\n",
    "chart = alt.Chart(df).mark_line().encode(\n",
    "    x='x',\n",
    "    y='y'\n",
    ").properties(\n",
    "    title='Графік функції y = x * cos(x)',\n",
    "    width=500,  # Ширина графіку\n",
    "    height=300  # Висота графіку\n",
    ").configure_axis(\n",
    "    labelFontSize=12,  # Розмір шрифту для міток на вісі\n",
    "    titleFontSize=14  # Розмір шрифту для заголовків вісей\n",
    ")\n",
    "\n",
    "chart.show()"
   ]
  },
  {
   "cell_type": "markdown",
   "source": [
    "2.\tСтворіть горизонтальну діаграму з мітками на основі даних про врожайність пшениці (data.wheat()) за допомогою бібліотеки  Altair. Задайте вісь x для врожайності пшениці, вісь y для років, а текстові мітки відображайте значення врожайності пшениці на відповідних роках.\n"
   ],
   "metadata": {
    "collapsed": false
   }
  },
  {
   "cell_type": "code",
   "execution_count": null,
   "outputs": [],
   "source": [
    "\n",
    "wheat = data.wheat()\n",
    "\n",
    "chart = alt.Chart(wheat).mark_bar().encode(\n",
    "    x='wheat:Q',  # Ось X - врожайність пшениці\n",
    "    y='year:O',  # Ось Y - роки\n",
    "    text='wheat:Q'  # Текстові мітки, що відображають значення врожайності пшениці\n",
    ").properties(\n",
    "    title='Врожайність пшениці за роками',\n",
    "    width=500,  # Ширина графіку\n",
    "    height=300  # Висота графіку\n",
    ").configure_axis(\n",
    "    labelFontSize=12,  # Розмір шрифту для міток на вісі\n",
    "    titleFontSize=14  # Розмір шрифту для заголовків вісей\n",
    ")\n",
    "\n",
    "chart.show()"
   ],
   "metadata": {
    "collapsed": false,
    "pycharm": {
     "is_executing": true
    }
   }
  },
  {
   "cell_type": "markdown",
   "source": [
    "3.\tПобудуйте гістограму із від'ємними значеннями на основі даних про зміни в зайнятості в США (data.us_employment()) за допомогою бібліотеки Altair. Вісь x відповідає місяцям, вісь y відображає зміни в зайнятості (nonfarm_change). Використовуйте два різних кольори для відображення від'ємних та додатних значень змін в зайнятості. Встановіть ширину діаграми на 500 пікселів.\n"
   ],
   "metadata": {
    "collapsed": false
   }
  },
  {
   "cell_type": "code",
   "execution_count": 1,
   "outputs": [
    {
     "name": "stdout",
     "output_type": "stream",
     "text": [
      "Displaying chart at http://localhost:65093/\n"
     ]
    }
   ],
   "source": [
    "\n",
    "employment_data = data.us_employment()\n",
    "\n",
    "chart = alt.Chart(employment_data).mark_bar(\n",
    ").encode(\n",
    "    x=alt.X('month:N', title='Місяць'),  # Ось X - місяці\n",
    "    y=alt.Y('nonfarm_change:Q', title='Зміни в зайнятості'),  # Ось Y - зміни в зайнятості\n",
    "    color=alt.condition(alt.datum.nonfarm_change > 0,\n",
    "    alt.value('steelblue'),\n",
    "    alt.value('orange'))  # Кольори для додатних та від'ємних значень\n",
    ").properties(\n",
    "    width=500  # Ширина графіку\n",
    ").configure_axis(\n",
    "    labelFontSize=12,\n",
    "    titleFontSize=14\n",
    ")\n",
    "\n",
    "chart.show()"
   ],
   "metadata": {
    "collapsed": false
   }
  },
  {
   "cell_type": "markdown",
   "source": [
    "4.\tПобудуйте гістограму з групуванням на основі даних про врожай ячменю (data.barley()). Вісь x представляє роки, вісь y відображає сумарний врожай (yield), кольорова шкала вказує на різні роки, а групування (стовпці) відбувається за різними місцями (site).\n"
   ],
   "metadata": {
    "collapsed": false
   }
  },
  {
   "cell_type": "code",
   "execution_count": 6,
   "outputs": [
    {
     "name": "stdout",
     "output_type": "stream",
     "text": [
      "Displaying chart at http://localhost:65093/\n"
     ]
    }
   ],
   "source": [
    "\n",
    "barley_data = data.barley()\n",
    "\n",
    "chart = alt.Chart(barley_data).mark_bar().encode(\n",
    "    x=alt.X('year:O', title='Рік'),  # Ось X - роки\n",
    "    y=alt.Y('sum(yield):Q', title='Сумарний врожай'),  # Ось Y - сумарний врожай\n",
    "    color='year:N',  # Кольорова шкала для різних років\n",
    "    column='site:N'  # Групування (стовпці) за різними місцями\n",
    ").properties(\n",
    "    width=600  # Ширина графіку\n",
    ").configure_axis(\n",
    "    labelFontSize=12,  # Розмір шрифту для міток на вісі\n",
    "    titleFontSize=14  # Розмір шрифту для заголовків вісей\n",
    ").configure_header(\n",
    "    titleFontSize=16  # Розмір шрифту для заголовку графіку\n",
    ")\n",
    "\n",
    "chart.show()\n"
   ],
   "metadata": {
    "collapsed": false
   }
  },
  {
   "cell_type": "markdown",
   "source": [
    "5.\tСтворіть багатошарову діаграму на основі даних про виробництво електроенергії в штаті Айова (data.iowa_electricity()). Вісь x представляє роки, вісь y відображає чисте виробництво електроенергії (net_generation), а кожен шар діаграми позначає різні джерела енергії (source). Встановіть прозорість (opacity) для стовпців на рівні 0.7.\n"
   ],
   "metadata": {
    "collapsed": false
   }
  },
  {
   "cell_type": "code",
   "execution_count": 7,
   "outputs": [
    {
     "name": "stdout",
     "output_type": "stream",
     "text": [
      "Displaying chart at http://localhost:65093/\n"
     ]
    }
   ],
   "source": [
    "iowa_data = data.iowa_electricity()\n",
    "\n",
    "chart = alt.Chart(iowa_data).mark_bar(opacity=0.7).encode(\n",
    "    x=alt.X('year:O', title='Рік'),  # Ось X - роки\n",
    "    y=alt.Y('net_generation:Q', title='Чисте виробництво електроенергії'),  # Ось Y - чисте виробництво електроенергії\n",
    "    color='source:N'  # Кожен шар діаграми позначає різні джерела енергії\n",
    ").properties(\n",
    "    width=600  # Ширина графіку\n",
    ").configure_axis(\n",
    "    labelFontSize=12,  # Розмір шрифту для міток на вісі\n",
    "    titleFontSize=14  # Розмір шрифту для заголовків вісей\n",
    ").configure_legend(\n",
    "    titleFontSize=14  # Розмір шрифту для заголовку легенди\n",
    ")\n",
    "\n",
    "chart.show()"
   ],
   "metadata": {
    "collapsed": false
   }
  },
  {
   "cell_type": "markdown",
   "source": [
    "6.\tПобудуйте лінійний графік з маркерами на основі даних про акції (data.stocks()) . Вісь x представляє дати, вісь y відображає ціни акцій (price), а кожен графік позначається символом (symbol). Встановіть маркери як неповні, заповнюючи їх білим кольором, та використовуйте різні кольори для різних символів акцій.\n"
   ],
   "metadata": {
    "collapsed": false
   }
  },
  {
   "cell_type": "code",
   "execution_count": 12,
   "outputs": [
    {
     "name": "stdout",
     "output_type": "stream",
     "text": [
      "Displaying chart at http://localhost:65093/\n"
     ]
    }
   ],
   "source": [
    "stocks_data = data.stocks()\n",
    "\n",
    "chart = alt.Chart(stocks_data).mark_line(point={'filled': True, 'fill': 'white'}, size=2).encode(\n",
    "    x=alt.X('date:T', title='Дата'),  # Ось X - дати\n",
    "    y=alt.Y('price:Q', title='Ціна акцій'),  # Ось Y - ціни акцій\n",
    "    color='symbol:N'  # Кожен графік позначається символом акції\n",
    ").properties(\n",
    "    width=600,  # Ширина графіку\n",
    "    height=300  # Висота графіку\n",
    ").configure_axis(\n",
    "    labelFontSize=12,  # Розмір шрифту для міток на вісі\n",
    "    titleFontSize=14  # Розмір шрифту для заголовків вісей\n",
    ").configure_legend(\n",
    "    titleFontSize=14  # Розмір шрифту для заголовку легенди\n",
    ")\n",
    "\n",
    "chart.show()"
   ],
   "metadata": {
    "collapsed": false
   }
  },
  {
   "cell_type": "markdown",
   "source": [
    "7.\tСтворіть діаграму розсіювання для двовимірної гістограми на основі даних про фільми (data.movies.url). Вісь X відображає рейтинг фільмів на IMDB (IMDB_Rating), вісь Y відображає рейтинг фільмів на Rotten Tomatoes (Rotten_Tomatoes_Rating).\n"
   ],
   "metadata": {
    "collapsed": false
   }
  },
  {
   "cell_type": "code",
   "execution_count": 13,
   "outputs": [
    {
     "name": "stdout",
     "output_type": "stream",
     "text": [
      "Displaying chart at http://localhost:65093/\n"
     ]
    }
   ],
   "source": [
    "movies_data = data.movies.url\n",
    "\n",
    "scatterplot = alt.Chart(movies_data).mark_circle(size=60).encode(\n",
    "    x=alt.X('IMDB_Rating:Q', title='IMDB Рейтинг'),  # Ось X - рейтинг фільмів на IMDB\n",
    "    y=alt.Y('Rotten_Tomatoes_Rating:Q', title='Rotten Tomatoes Рейтинг'),  # Ось Y - рейтинг фільмів на Rotten Tomatoes\n",
    "    color=alt.Color('count()', scale=alt.Scale(scheme='viridis'), title='Кількість фільмів'),  # Кольори вказують на кількість фільмів\n",
    ").properties(\n",
    "    width=600,  # Ширина графіку\n",
    "    height=400  # Висота графіку\n",
    ").configure_axis(\n",
    "    labelFontSize=12,  # Розмір шрифту для міток на вісі\n",
    "    titleFontSize=14  # Розмір шрифту для заголовків вісей\n",
    ").configure_legend(\n",
    "    titleFontSize=14  # Розмір шрифту для заголовку легенди\n",
    ")\n",
    "\n",
    "chart.show()"
   ],
   "metadata": {
    "collapsed": false
   }
  },
  {
   "cell_type": "markdown",
   "source": [
    "## Частина №4\n"
   ],
   "metadata": {
    "collapsed": false
   }
  },
  {
   "cell_type": "markdown",
   "source": [
    "Вивести перші 5 та останні 5 рядків датасету."
   ],
   "metadata": {
    "collapsed": false
   }
  },
  {
   "cell_type": "code",
   "execution_count": 18,
   "outputs": [
    {
     "data": {
      "text/plain": "  Countries and areas  Latitude   Longitude  OOSR_Pre0Primary_Age_Male  \\\n0         Afghanistan  33.939110  67.709953                          0   \n1             Albania  41.153332  20.168331                          4   \n2             Algeria  28.033886   1.659626                          0   \n3             Andorra  42.506285   1.521801                          0   \n4              Angola  11.202692  17.873887                         31   \n\n   OOSR_Pre0Primary_Age_Female  OOSR_Primary_Age_Male  \\\n0                            0                      0   \n1                            2                      6   \n2                            0                      0   \n3                            0                      0   \n4                           39                      0   \n\n   OOSR_Primary_Age_Female  OOSR_Lower_Secondary_Age_Male  \\\n0                        0                              0   \n1                        3                              6   \n2                        0                              0   \n3                        0                              0   \n4                        0                              0   \n\n   OOSR_Lower_Secondary_Age_Female  OOSR_Upper_Secondary_Age_Male  ...  \\\n0                                0                             44  ...   \n1                                1                             21  ...   \n2                                0                              0  ...   \n3                                0                              0  ...   \n4                                0                              0  ...   \n\n   Primary_End_Proficiency_Reading  Primary_End_Proficiency_Math  \\\n0                               13                            11   \n1                                0                             0   \n2                                0                             0   \n3                                0                             0   \n4                                0                             0   \n\n   Lower_Secondary_End_Proficiency_Reading  \\\n0                                        0   \n1                                       48   \n2                                       21   \n3                                        0   \n4                                        0   \n\n   Lower_Secondary_End_Proficiency_Math  Youth_15_24_Literacy_Rate_Male  \\\n0                                     0                              74   \n1                                    58                              99   \n2                                    19                              98   \n3                                     0                               0   \n4                                     0                               0   \n\n   Youth_15_24_Literacy_Rate_Female  Birth_Rate  \\\n0                                56       32.49   \n1                               100       11.78   \n2                                97       24.28   \n3                                 0        7.20   \n4                                 0       40.73   \n\n   Gross_Primary_Education_Enrollment  Gross_Tertiary_Education_Enrollment  \\\n0                               104.0                                  9.7   \n1                               107.0                                 55.0   \n2                               109.9                                 51.4   \n3                               106.4                                  0.0   \n4                               113.5                                  9.3   \n\n   Unemployment_Rate  \n0              11.12  \n1              12.33  \n2              11.70  \n3               0.00  \n4               6.89  \n\n[5 rows x 29 columns]",
      "text/html": "<div>\n<style scoped>\n    .dataframe tbody tr th:only-of-type {\n        vertical-align: middle;\n    }\n\n    .dataframe tbody tr th {\n        vertical-align: top;\n    }\n\n    .dataframe thead th {\n        text-align: right;\n    }\n</style>\n<table border=\"1\" class=\"dataframe\">\n  <thead>\n    <tr style=\"text-align: right;\">\n      <th></th>\n      <th>Countries and areas</th>\n      <th>Latitude</th>\n      <th>Longitude</th>\n      <th>OOSR_Pre0Primary_Age_Male</th>\n      <th>OOSR_Pre0Primary_Age_Female</th>\n      <th>OOSR_Primary_Age_Male</th>\n      <th>OOSR_Primary_Age_Female</th>\n      <th>OOSR_Lower_Secondary_Age_Male</th>\n      <th>OOSR_Lower_Secondary_Age_Female</th>\n      <th>OOSR_Upper_Secondary_Age_Male</th>\n      <th>...</th>\n      <th>Primary_End_Proficiency_Reading</th>\n      <th>Primary_End_Proficiency_Math</th>\n      <th>Lower_Secondary_End_Proficiency_Reading</th>\n      <th>Lower_Secondary_End_Proficiency_Math</th>\n      <th>Youth_15_24_Literacy_Rate_Male</th>\n      <th>Youth_15_24_Literacy_Rate_Female</th>\n      <th>Birth_Rate</th>\n      <th>Gross_Primary_Education_Enrollment</th>\n      <th>Gross_Tertiary_Education_Enrollment</th>\n      <th>Unemployment_Rate</th>\n    </tr>\n  </thead>\n  <tbody>\n    <tr>\n      <th>0</th>\n      <td>Afghanistan</td>\n      <td>33.939110</td>\n      <td>67.709953</td>\n      <td>0</td>\n      <td>0</td>\n      <td>0</td>\n      <td>0</td>\n      <td>0</td>\n      <td>0</td>\n      <td>44</td>\n      <td>...</td>\n      <td>13</td>\n      <td>11</td>\n      <td>0</td>\n      <td>0</td>\n      <td>74</td>\n      <td>56</td>\n      <td>32.49</td>\n      <td>104.0</td>\n      <td>9.7</td>\n      <td>11.12</td>\n    </tr>\n    <tr>\n      <th>1</th>\n      <td>Albania</td>\n      <td>41.153332</td>\n      <td>20.168331</td>\n      <td>4</td>\n      <td>2</td>\n      <td>6</td>\n      <td>3</td>\n      <td>6</td>\n      <td>1</td>\n      <td>21</td>\n      <td>...</td>\n      <td>0</td>\n      <td>0</td>\n      <td>48</td>\n      <td>58</td>\n      <td>99</td>\n      <td>100</td>\n      <td>11.78</td>\n      <td>107.0</td>\n      <td>55.0</td>\n      <td>12.33</td>\n    </tr>\n    <tr>\n      <th>2</th>\n      <td>Algeria</td>\n      <td>28.033886</td>\n      <td>1.659626</td>\n      <td>0</td>\n      <td>0</td>\n      <td>0</td>\n      <td>0</td>\n      <td>0</td>\n      <td>0</td>\n      <td>0</td>\n      <td>...</td>\n      <td>0</td>\n      <td>0</td>\n      <td>21</td>\n      <td>19</td>\n      <td>98</td>\n      <td>97</td>\n      <td>24.28</td>\n      <td>109.9</td>\n      <td>51.4</td>\n      <td>11.70</td>\n    </tr>\n    <tr>\n      <th>3</th>\n      <td>Andorra</td>\n      <td>42.506285</td>\n      <td>1.521801</td>\n      <td>0</td>\n      <td>0</td>\n      <td>0</td>\n      <td>0</td>\n      <td>0</td>\n      <td>0</td>\n      <td>0</td>\n      <td>...</td>\n      <td>0</td>\n      <td>0</td>\n      <td>0</td>\n      <td>0</td>\n      <td>0</td>\n      <td>0</td>\n      <td>7.20</td>\n      <td>106.4</td>\n      <td>0.0</td>\n      <td>0.00</td>\n    </tr>\n    <tr>\n      <th>4</th>\n      <td>Angola</td>\n      <td>11.202692</td>\n      <td>17.873887</td>\n      <td>31</td>\n      <td>39</td>\n      <td>0</td>\n      <td>0</td>\n      <td>0</td>\n      <td>0</td>\n      <td>0</td>\n      <td>...</td>\n      <td>0</td>\n      <td>0</td>\n      <td>0</td>\n      <td>0</td>\n      <td>0</td>\n      <td>0</td>\n      <td>40.73</td>\n      <td>113.5</td>\n      <td>9.3</td>\n      <td>6.89</td>\n    </tr>\n  </tbody>\n</table>\n<p>5 rows × 29 columns</p>\n</div>"
     },
     "execution_count": 18,
     "metadata": {},
     "output_type": "execute_result"
    }
   ],
   "source": [
    "df = pd.read_csv(\"Global_Education.csv\", encoding='latin-1')\n",
    "df.head()"
   ],
   "metadata": {
    "collapsed": false
   }
  },
  {
   "cell_type": "markdown",
   "source": [
    "Вивести основну статистичну інформацію про числові стовпці, таку як середнє значення, медіану, мінімум, максимум."
   ],
   "metadata": {
    "collapsed": false
   }
  },
  {
   "cell_type": "code",
   "execution_count": 20,
   "outputs": [
    {
     "data": {
      "text/plain": "        Latitude    Longitude  OOSR_Pre0Primary_Age_Male  \\\ncount  202.000000  202.000000                 202.000000   \nmean    25.081422   55.166928                  19.658416   \nstd     16.813639   45.976287                  25.007604   \nmin      0.023559    0.824782                   0.000000   \n25%     11.685062   18.665678                   0.000000   \n50%     21.207861   43.518091                   9.000000   \n75%     39.901792   77.684945                  31.000000   \nmax     64.963051  178.065032                  96.000000   \n\n       OOSR_Pre0Primary_Age_Female  OOSR_Primary_Age_Male  \\\ncount                   202.000000             202.000000   \nmean                     19.282178               5.282178   \nstd                      25.171147               9.396442   \nmin                       0.000000               0.000000   \n25%                       0.000000               0.000000   \n50%                       7.000000               1.000000   \n75%                      30.000000               6.000000   \nmax                      96.000000              58.000000   \n\n       OOSR_Primary_Age_Female  OOSR_Lower_Secondary_Age_Male  \\\ncount               202.000000                     202.000000   \nmean                  5.569307                       8.707921   \nstd                  10.383092                      13.258203   \nmin                   0.000000                       0.000000   \n25%                   0.000000                       0.000000   \n50%                   1.000000                       2.000000   \n75%                   6.750000                      12.750000   \nmax                  67.000000                      61.000000   \n\n       OOSR_Lower_Secondary_Age_Female  OOSR_Upper_Secondary_Age_Male  \\\ncount                       202.000000                     202.000000   \nmean                          8.831683                      20.292079   \nstd                          14.724717                      21.485592   \nmin                           0.000000                       0.000000   \n25%                           0.000000                       0.250000   \n50%                           2.000000                      15.000000   \n75%                          10.750000                      32.750000   \nmax                          70.000000                      84.000000   \n\n       OOSR_Upper_Secondary_Age_Female  ...  Primary_End_Proficiency_Reading  \\\ncount                       202.000000  ...                       202.000000   \nmean                         19.975248  ...                        10.717822   \nstd                          23.140376  ...                        24.866101   \nmin                           0.000000  ...                         0.000000   \n25%                           0.250000  ...                         0.000000   \n50%                          12.000000  ...                         0.000000   \n75%                          30.000000  ...                         0.000000   \nmax                          89.000000  ...                        99.000000   \n\n       Primary_End_Proficiency_Math  Lower_Secondary_End_Proficiency_Reading  \\\ncount                    202.000000                               202.000000   \nmean                      10.376238                                25.787129   \nstd                       22.484423                                33.181384   \nmin                        0.000000                                 0.000000   \n25%                        0.000000                                 0.000000   \n50%                        0.000000                                 0.000000   \n75%                        0.000000                                56.750000   \nmax                       89.000000                                89.000000   \n\n       Lower_Secondary_End_Proficiency_Math  Youth_15_24_Literacy_Rate_Male  \\\ncount                            202.000000                      202.000000   \nmean                              24.450495                       35.801980   \nstd                               31.965467                       45.535186   \nmin                                0.000000                        0.000000   \n25%                                0.000000                        0.000000   \n50%                                0.000000                        0.000000   \n75%                               50.750000                       94.000000   \nmax                               94.000000                      100.000000   \n\n       Youth_15_24_Literacy_Rate_Female  Birth_Rate  \\\ncount                        202.000000  202.000000   \nmean                          35.084158   18.914010   \nstd                           45.249643   10.828184   \nmin                            0.000000    0.000000   \n25%                            0.000000   10.355000   \n50%                            0.000000   17.550000   \n75%                           96.750000   27.692500   \nmax                          100.000000   46.080000   \n\n       Gross_Primary_Education_Enrollment  \\\ncount                          202.000000   \nmean                            94.942574   \nstd                             29.769338   \nmin                              0.000000   \n25%                             97.200000   \n50%                            101.850000   \n75%                            107.300000   \nmax                            142.500000   \n\n       Gross_Tertiary_Education_Enrollment  Unemployment_Rate  \ncount                           202.000000         202.000000  \nmean                             34.392574           6.000000  \nstd                              29.978206           5.273136  \nmin                               0.000000           0.000000  \n25%                               9.000000           2.302500  \n50%                              24.850000           4.585000  \n75%                              59.975000           8.655000  \nmax                             136.600000          28.180000  \n\n[8 rows x 28 columns]",
      "text/html": "<div>\n<style scoped>\n    .dataframe tbody tr th:only-of-type {\n        vertical-align: middle;\n    }\n\n    .dataframe tbody tr th {\n        vertical-align: top;\n    }\n\n    .dataframe thead th {\n        text-align: right;\n    }\n</style>\n<table border=\"1\" class=\"dataframe\">\n  <thead>\n    <tr style=\"text-align: right;\">\n      <th></th>\n      <th>Latitude</th>\n      <th>Longitude</th>\n      <th>OOSR_Pre0Primary_Age_Male</th>\n      <th>OOSR_Pre0Primary_Age_Female</th>\n      <th>OOSR_Primary_Age_Male</th>\n      <th>OOSR_Primary_Age_Female</th>\n      <th>OOSR_Lower_Secondary_Age_Male</th>\n      <th>OOSR_Lower_Secondary_Age_Female</th>\n      <th>OOSR_Upper_Secondary_Age_Male</th>\n      <th>OOSR_Upper_Secondary_Age_Female</th>\n      <th>...</th>\n      <th>Primary_End_Proficiency_Reading</th>\n      <th>Primary_End_Proficiency_Math</th>\n      <th>Lower_Secondary_End_Proficiency_Reading</th>\n      <th>Lower_Secondary_End_Proficiency_Math</th>\n      <th>Youth_15_24_Literacy_Rate_Male</th>\n      <th>Youth_15_24_Literacy_Rate_Female</th>\n      <th>Birth_Rate</th>\n      <th>Gross_Primary_Education_Enrollment</th>\n      <th>Gross_Tertiary_Education_Enrollment</th>\n      <th>Unemployment_Rate</th>\n    </tr>\n  </thead>\n  <tbody>\n    <tr>\n      <th>count</th>\n      <td>202.000000</td>\n      <td>202.000000</td>\n      <td>202.000000</td>\n      <td>202.000000</td>\n      <td>202.000000</td>\n      <td>202.000000</td>\n      <td>202.000000</td>\n      <td>202.000000</td>\n      <td>202.000000</td>\n      <td>202.000000</td>\n      <td>...</td>\n      <td>202.000000</td>\n      <td>202.000000</td>\n      <td>202.000000</td>\n      <td>202.000000</td>\n      <td>202.000000</td>\n      <td>202.000000</td>\n      <td>202.000000</td>\n      <td>202.000000</td>\n      <td>202.000000</td>\n      <td>202.000000</td>\n    </tr>\n    <tr>\n      <th>mean</th>\n      <td>25.081422</td>\n      <td>55.166928</td>\n      <td>19.658416</td>\n      <td>19.282178</td>\n      <td>5.282178</td>\n      <td>5.569307</td>\n      <td>8.707921</td>\n      <td>8.831683</td>\n      <td>20.292079</td>\n      <td>19.975248</td>\n      <td>...</td>\n      <td>10.717822</td>\n      <td>10.376238</td>\n      <td>25.787129</td>\n      <td>24.450495</td>\n      <td>35.801980</td>\n      <td>35.084158</td>\n      <td>18.914010</td>\n      <td>94.942574</td>\n      <td>34.392574</td>\n      <td>6.000000</td>\n    </tr>\n    <tr>\n      <th>std</th>\n      <td>16.813639</td>\n      <td>45.976287</td>\n      <td>25.007604</td>\n      <td>25.171147</td>\n      <td>9.396442</td>\n      <td>10.383092</td>\n      <td>13.258203</td>\n      <td>14.724717</td>\n      <td>21.485592</td>\n      <td>23.140376</td>\n      <td>...</td>\n      <td>24.866101</td>\n      <td>22.484423</td>\n      <td>33.181384</td>\n      <td>31.965467</td>\n      <td>45.535186</td>\n      <td>45.249643</td>\n      <td>10.828184</td>\n      <td>29.769338</td>\n      <td>29.978206</td>\n      <td>5.273136</td>\n    </tr>\n    <tr>\n      <th>min</th>\n      <td>0.023559</td>\n      <td>0.824782</td>\n      <td>0.000000</td>\n      <td>0.000000</td>\n      <td>0.000000</td>\n      <td>0.000000</td>\n      <td>0.000000</td>\n      <td>0.000000</td>\n      <td>0.000000</td>\n      <td>0.000000</td>\n      <td>...</td>\n      <td>0.000000</td>\n      <td>0.000000</td>\n      <td>0.000000</td>\n      <td>0.000000</td>\n      <td>0.000000</td>\n      <td>0.000000</td>\n      <td>0.000000</td>\n      <td>0.000000</td>\n      <td>0.000000</td>\n      <td>0.000000</td>\n    </tr>\n    <tr>\n      <th>25%</th>\n      <td>11.685062</td>\n      <td>18.665678</td>\n      <td>0.000000</td>\n      <td>0.000000</td>\n      <td>0.000000</td>\n      <td>0.000000</td>\n      <td>0.000000</td>\n      <td>0.000000</td>\n      <td>0.250000</td>\n      <td>0.250000</td>\n      <td>...</td>\n      <td>0.000000</td>\n      <td>0.000000</td>\n      <td>0.000000</td>\n      <td>0.000000</td>\n      <td>0.000000</td>\n      <td>0.000000</td>\n      <td>10.355000</td>\n      <td>97.200000</td>\n      <td>9.000000</td>\n      <td>2.302500</td>\n    </tr>\n    <tr>\n      <th>50%</th>\n      <td>21.207861</td>\n      <td>43.518091</td>\n      <td>9.000000</td>\n      <td>7.000000</td>\n      <td>1.000000</td>\n      <td>1.000000</td>\n      <td>2.000000</td>\n      <td>2.000000</td>\n      <td>15.000000</td>\n      <td>12.000000</td>\n      <td>...</td>\n      <td>0.000000</td>\n      <td>0.000000</td>\n      <td>0.000000</td>\n      <td>0.000000</td>\n      <td>0.000000</td>\n      <td>0.000000</td>\n      <td>17.550000</td>\n      <td>101.850000</td>\n      <td>24.850000</td>\n      <td>4.585000</td>\n    </tr>\n    <tr>\n      <th>75%</th>\n      <td>39.901792</td>\n      <td>77.684945</td>\n      <td>31.000000</td>\n      <td>30.000000</td>\n      <td>6.000000</td>\n      <td>6.750000</td>\n      <td>12.750000</td>\n      <td>10.750000</td>\n      <td>32.750000</td>\n      <td>30.000000</td>\n      <td>...</td>\n      <td>0.000000</td>\n      <td>0.000000</td>\n      <td>56.750000</td>\n      <td>50.750000</td>\n      <td>94.000000</td>\n      <td>96.750000</td>\n      <td>27.692500</td>\n      <td>107.300000</td>\n      <td>59.975000</td>\n      <td>8.655000</td>\n    </tr>\n    <tr>\n      <th>max</th>\n      <td>64.963051</td>\n      <td>178.065032</td>\n      <td>96.000000</td>\n      <td>96.000000</td>\n      <td>58.000000</td>\n      <td>67.000000</td>\n      <td>61.000000</td>\n      <td>70.000000</td>\n      <td>84.000000</td>\n      <td>89.000000</td>\n      <td>...</td>\n      <td>99.000000</td>\n      <td>89.000000</td>\n      <td>89.000000</td>\n      <td>94.000000</td>\n      <td>100.000000</td>\n      <td>100.000000</td>\n      <td>46.080000</td>\n      <td>142.500000</td>\n      <td>136.600000</td>\n      <td>28.180000</td>\n    </tr>\n  </tbody>\n</table>\n<p>8 rows × 28 columns</p>\n</div>"
     },
     "execution_count": 20,
     "metadata": {},
     "output_type": "execute_result"
    }
   ],
   "source": [
    "df.describe()"
   ],
   "metadata": {
    "collapsed": false
   }
  },
  {
   "cell_type": "markdown",
   "source": [
    "Знайти середнє значення та стандартне відхилення для кількох числових стовпців, таких як ' Longitude', 'Birth_Rate'.\n"
   ],
   "metadata": {
    "collapsed": false
   }
  },
  {
   "cell_type": "code",
   "execution_count": 23,
   "outputs": [
    {
     "name": "stdout",
     "output_type": "stream",
     "text": [
      "Середнє значення:\n",
      " Longitude     55.166928\n",
      "Birth_Rate    18.914010\n",
      "dtype: float64\n",
      "\n",
      "Стандартне відхилення:\n",
      " Longitude     45.976287\n",
      "Birth_Rate    10.828184\n",
      "dtype: float64\n"
     ]
    }
   ],
   "source": [
    "numeric_columns = ['Longitude', 'Birth_Rate']\n",
    "\n",
    "mean_values = df[numeric_columns].mean()\n",
    "\n",
    "std_values = df[numeric_columns].std()\n",
    "\n",
    "print(\"Середнє значення:\\n\", mean_values)\n",
    "print(\"\\nСтандартне відхилення:\\n\", std_values)"
   ],
   "metadata": {
    "collapsed": false
   }
  },
  {
   "cell_type": "markdown",
   "source": [
    "Визначити країну з найвищим та найнижчим рівнем безробіття ('Unemployment_Rate').\n"
   ],
   "metadata": {
    "collapsed": false
   }
  },
  {
   "cell_type": "code",
   "execution_count": 27,
   "outputs": [
    {
     "name": "stdout",
     "output_type": "stream",
     "text": [
      "Країна з найвищим рівнем безробіття: South Africa\n",
      "Країна з найнижчим рівнем безробіття: Andorra\n"
     ]
    }
   ],
   "source": [
    "max_unemployment = df.loc[df['Unemployment_Rate'].idxmax()]['Countries and areas']\n",
    "min_unemployment = df.loc[df['Unemployment_Rate'].idxmin()]['Countries and areas']\n",
    "\n",
    "print(f\"Країна з найвищим рівнем безробіття: {max_unemployment}\")\n",
    "print(f\"Країна з найнижчим рівнем безробіття: {min_unemployment}\")\n"
   ],
   "metadata": {
    "collapsed": false
   }
  },
  {
   "cell_type": "markdown",
   "source": [
    "Вивести унікальні значення стовпця 'Countries and areas'.\n",
    "\n"
   ],
   "metadata": {
    "collapsed": false
   }
  },
  {
   "cell_type": "code",
   "execution_count": 29,
   "outputs": [
    {
     "data": {
      "text/plain": "array(['Afghanistan', 'Albania', 'Algeria', 'Andorra', 'Angola',\n       'Anguilla', 'Antigua and Barbuda', 'Argentina', 'Armenia',\n       'Australia', 'Austria', 'Azerbaijan', 'The Bahamas', 'Bahrain',\n       'Bangladesh', 'Barbados', 'Belarus', 'Belgium', 'Belize', 'Benin',\n       'Bhutan', 'Bolivia', 'Bosnia and Herzegovina', 'Botswana',\n       'Brazil', 'British Virgin Islands', 'Brunei', 'Bulgaria',\n       'Burkina Faso', 'Burundi', 'Cape Verde', 'Cambodia', 'Cameroon',\n       'Canada', 'Central African Republic', 'Chad', 'Chile', 'China',\n       'Colombia', 'Comoros', 'Republic of the Congo', 'Cook Islands',\n       'Costa Rica', 'Ivory Coast', 'Croatia', 'Cuba', 'Cyprus',\n       'Czech Republic', 'North Korea',\n       'Democratic Republic of the Congo', 'Denmark', 'Djibouti',\n       'Dominica', 'Dominican Republic', 'Ecuador', 'Egypt',\n       'El Salvador', 'Equatorial Guinea', 'Eritrea', 'Estonia',\n       'Eswatini', 'Ethiopia', 'Fiji', 'Finland', 'France', 'Gabon',\n       'The Gambia', 'Georgia', 'Germany', 'Ghana', 'Greece', 'Grenada',\n       'Guatemala', 'Guinea', 'Guinea0Bissau', 'Guyana', 'Haiti',\n       'Vatican City', 'Honduras', 'Hungary', 'Iceland', 'India',\n       'Indonesia', 'Iran', 'Iraq', 'Republic of Ireland', 'Israel',\n       'Italy', 'Jamaica', 'Japan', 'Jordan', 'Kazakhstan', 'Kenya',\n       'Kiribati', 'Kuwait', 'Kyrgyzstan', 'Laos', 'Latvia', 'Lebanon',\n       'Lesotho', 'Liberia', 'Libya', 'Liechtenstein', 'Lithuania',\n       'Luxembourg', 'Madagascar', 'Malawi', 'Malaysia', 'Maldives',\n       'Mali', 'Malta', 'Marshall Islands', 'Mauritania', 'Mauritius',\n       'Mexico', 'Federated States of Micronesia', 'Monaco', 'Mongolia',\n       'Montenegro', 'Montserrat', 'Morocco', 'Mozambique', 'Myanmar',\n       'Namibia', 'Nauru', 'Nepal', 'Netherlands', 'New Zealand',\n       'Nicaragua', 'Niger', 'Nigeria', 'Niue', 'North Macedonia',\n       'Norway', 'Oman', 'Pakistan', 'Palau', 'Panama',\n       'Papua New Guinea', 'Paraguay', 'Peru', 'Philippines', 'Poland',\n       'Portugal', 'Qatar', 'South Korea', 'Moldova', 'Romania', 'Russia',\n       'Rwanda', 'Saint Kitts and Nevis', 'Saint Lucia',\n       'Saint Vincent and the Grenadines', 'Samoa', 'San Marino',\n       'Sï¿½ï¿½ï¿½ï¿½ï¿½ï¿½ï¿½ï¿', 'Saudi Arabia', 'Senegal', 'Serbia',\n       'Seychelles', 'Sierra Leone', 'Singapore', 'Slovakia', 'Slovenia',\n       'Solomon Islands', 'Somalia', 'South Africa', 'South Sudan',\n       'Spain', 'Sri Lanka', 'Palestinian National Authority', 'Sudan',\n       'Suriname', 'Sweden', 'Switzerland', 'Syria', 'Tajikistan',\n       'Thailand', 'East Timor', 'Togo', 'Tokelau', 'Tonga',\n       'Trinidad and Tobago', 'Tunisia', 'Turkey', 'Turkmenistan',\n       'Turks and Caicos Islands', 'Tuvalu', 'Uganda', 'Ukraine',\n       'United Arab Emirates', 'United Kingdom', 'Tanzania',\n       'United States', 'Uruguay', 'Uzbekistan', 'Vanuatu', 'Venezuela',\n       'Vietnam', 'Yemen', 'Zambia', 'Zimbabwe'], dtype=object)"
     },
     "execution_count": 29,
     "metadata": {},
     "output_type": "execute_result"
    }
   ],
   "source": [
    "df['Countries and areas'].unique()"
   ],
   "metadata": {
    "collapsed": false
   }
  },
  {
   "cell_type": "markdown",
   "source": [
    "Порахувати кількість країн у датасеті.\n"
   ],
   "metadata": {
    "collapsed": false
   }
  },
  {
   "cell_type": "code",
   "execution_count": 30,
   "outputs": [
    {
     "data": {
      "text/plain": "202"
     },
     "execution_count": 30,
     "metadata": {},
     "output_type": "execute_result"
    }
   ],
   "source": [
    "df['Countries and areas'].nunique()"
   ],
   "metadata": {
    "collapsed": false
   }
  },
  {
   "cell_type": "markdown",
   "source": [
    "Побудувати графік розсіювання між 'Gross_Primary_Education_Enrollment' та 'Gross_Tertiary_Education_Enrollment'.\n"
   ],
   "metadata": {
    "collapsed": false
   }
  },
  {
   "cell_type": "code",
   "execution_count": 32,
   "outputs": [
    {
     "name": "stdout",
     "output_type": "stream",
     "text": [
      "Displaying chart at http://localhost:65093/\n"
     ]
    }
   ],
   "source": [
    "scatterplot = alt.Chart(df).mark_circle().encode(\n",
    "    x='Gross_Primary_Education_Enrollment:Q',\n",
    "    y='Gross_Tertiary_Education_Enrollment:Q',\n",
    "    tooltip=['Countries and areas:N', 'Gross_Primary_Education_Enrollment:Q', 'Gross_Tertiary_Education_Enrollment:Q']\n",
    ").properties(\n",
    "    width=600,\n",
    "    height=400\n",
    ").configure_axis(\n",
    "    labelFontSize=12,\n",
    "    titleFontSize=14\n",
    ")\n",
    "\n",
    "scatterplot.show()"
   ],
   "metadata": {
    "collapsed": false
   }
  },
  {
   "cell_type": "markdown",
   "source": [
    "Порівняти рейтинги грамотності чоловіків та жінок ('Youth_15_24_Literacy_Rate_Male' та 'Youth_15_24_Literacy_Rate_Female') за допомогою горизонтальної стовпчастої діаграми.\n"
   ],
   "metadata": {
    "collapsed": false
   }
  },
  {
   "cell_type": "code",
   "execution_count": 34,
   "outputs": [
    {
     "name": "stdout",
     "output_type": "stream",
     "text": [
      "Displaying chart at http://localhost:65093/\n"
     ]
    }
   ],
   "source": [
    "\n",
    "bar_chart_male = alt.Chart(df).mark_bar().encode(\n",
    "    y=alt.Y('Countries and areas:N', sort='-x'),\n",
    "    x='Youth_15_24_Literacy_Rate_Male:Q',\n",
    "    color=alt.value('blue'),\n",
    "    tooltip=['Countries and areas:N', 'Youth_15_24_Literacy_Rate_Male:Q']\n",
    ").properties(\n",
    "    width=600,\n",
    "    height=400,\n",
    "    title='Рейтинг грамотності чоловіків (Youth_15_24_Literacy_Rate_Male)'\n",
    ")\n",
    "\n",
    "bar_chart_male.show()\n"
   ],
   "metadata": {
    "collapsed": false
   }
  },
  {
   "cell_type": "code",
   "execution_count": 36,
   "outputs": [
    {
     "name": "stdout",
     "output_type": "stream",
     "text": [
      "Displaying chart at http://localhost:65093/\n"
     ]
    }
   ],
   "source": [
    "bar_chart_female = alt.Chart(df).mark_bar().encode(\n",
    "    y=alt.Y('Countries and areas:N', sort='-x'),\n",
    "    x='Youth_15_24_Literacy_Rate_Female:Q',\n",
    "    color=alt.value('pink'),\n",
    "    tooltip=['Countries and areas:N', 'Youth_15_24_Literacy_Rate_Female:Q']\n",
    ").properties(\n",
    "    width=600,\n",
    "    height=400,\n",
    "    title='Рейтинг грамотності чоловіків (Youth_15_24_Literacy_Rate_Female)'\n",
    ")\n",
    "\n",
    "bar_chart_female.show()"
   ],
   "metadata": {
    "collapsed": false
   }
  },
  {
   "cell_type": "code",
   "execution_count": 38,
   "outputs": [
    {
     "name": "stdout",
     "output_type": "stream",
     "text": [
      "Displaying chart at http://localhost:65093/\n"
     ]
    }
   ],
   "source": [
    "final_chart = (bar_chart_female + bar_chart_male).properties(width=600)\n",
    "final_chart.show()"
   ],
   "metadata": {
    "collapsed": false
   }
  },
  {
   "cell_type": "markdown",
   "source": [
    "Створити новий стовпець 'Total_Literacy_Rate', який буде представляти загальний рейтинг грамотності для кожної країни.\n"
   ],
   "metadata": {
    "collapsed": false
   }
  },
  {
   "cell_type": "code",
   "execution_count": 40,
   "outputs": [
    {
     "data": {
      "text/plain": "  Countries and areas  Total_Literacy_Rate\n0         Afghanistan                 65.0\n1             Albania                 99.5\n2             Algeria                 97.5\n3             Andorra                  0.0\n4              Angola                  0.0",
      "text/html": "<div>\n<style scoped>\n    .dataframe tbody tr th:only-of-type {\n        vertical-align: middle;\n    }\n\n    .dataframe tbody tr th {\n        vertical-align: top;\n    }\n\n    .dataframe thead th {\n        text-align: right;\n    }\n</style>\n<table border=\"1\" class=\"dataframe\">\n  <thead>\n    <tr style=\"text-align: right;\">\n      <th></th>\n      <th>Countries and areas</th>\n      <th>Total_Literacy_Rate</th>\n    </tr>\n  </thead>\n  <tbody>\n    <tr>\n      <th>0</th>\n      <td>Afghanistan</td>\n      <td>65.0</td>\n    </tr>\n    <tr>\n      <th>1</th>\n      <td>Albania</td>\n      <td>99.5</td>\n    </tr>\n    <tr>\n      <th>2</th>\n      <td>Algeria</td>\n      <td>97.5</td>\n    </tr>\n    <tr>\n      <th>3</th>\n      <td>Andorra</td>\n      <td>0.0</td>\n    </tr>\n    <tr>\n      <th>4</th>\n      <td>Angola</td>\n      <td>0.0</td>\n    </tr>\n  </tbody>\n</table>\n</div>"
     },
     "execution_count": 40,
     "metadata": {},
     "output_type": "execute_result"
    }
   ],
   "source": [
    "df['Total_Literacy_Rate'] = (df['Youth_15_24_Literacy_Rate_Male'] + df['Youth_15_24_Literacy_Rate_Female']) / 2\n",
    "\n",
    "df[['Countries and areas', 'Total_Literacy_Rate']].head()\n"
   ],
   "metadata": {
    "collapsed": false
   }
  },
  {
   "cell_type": "markdown",
   "source": [
    "Визначити країну з найвищим загальним рейтингом грамотності.\n"
   ],
   "metadata": {
    "collapsed": false
   }
  },
  {
   "cell_type": "code",
   "execution_count": 41,
   "outputs": [
    {
     "data": {
      "text/plain": "'Belarus'"
     },
     "execution_count": 41,
     "metadata": {},
     "output_type": "execute_result"
    }
   ],
   "source": [
    "df.loc[df['Total_Literacy_Rate'].idxmax()]['Countries and areas']\n"
   ],
   "metadata": {
    "collapsed": false
   }
  },
  {
   "cell_type": "code",
   "execution_count": 43,
   "outputs": [
    {
     "name": "stdout",
     "output_type": "stream",
     "text": [
      "Displaying chart at http://localhost:65093/\n"
     ]
    }
   ],
   "source": [
    "bar_chart = alt.Chart(df).mark_bar().encode(\n",
    "    x='Total_Literacy_Rate:Q',\n",
    "    y=alt.Y('Countries and areas:N', sort='-x'),\n",
    "    tooltip=['Countries and areas:N', 'Total_Literacy_Rate:Q'],\n",
    "    color=alt.value('skyblue')\n",
    ").properties(\n",
    "    width=600,\n",
    "    height=400\n",
    ")\n",
    "\n",
    "bar_chart.show()\n"
   ],
   "metadata": {
    "collapsed": false
   }
  }
 ],
 "metadata": {
  "kernelspec": {
   "display_name": "Python 3",
   "language": "python",
   "name": "python3"
  },
  "language_info": {
   "codemirror_mode": {
    "name": "ipython",
    "version": 2
   },
   "file_extension": ".py",
   "mimetype": "text/x-python",
   "name": "python",
   "nbconvert_exporter": "python",
   "pygments_lexer": "ipython2",
   "version": "2.7.6"
  }
 },
 "nbformat": 4,
 "nbformat_minor": 0
}
